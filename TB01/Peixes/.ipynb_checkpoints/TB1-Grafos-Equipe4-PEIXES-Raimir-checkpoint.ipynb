{
 "cells": [
  {
   "cell_type": "markdown",
   "id": "legislative-caribbean",
   "metadata": {},
   "source": [
    "#### Importação das Bibliotecas"
   ]
  },
  {
   "cell_type": "code",
   "execution_count": 1,
   "id": "threatened-antarctica",
   "metadata": {},
   "outputs": [],
   "source": [
    "#Bibliotecas\n",
    "import numpy as np\n",
    "import pandas as pd\n",
    "import networkx as nx\n",
    "import pylab as plt\n",
    "from networkx.drawing.nx_agraph import graphviz_layout"
   ]
  },
  {
   "cell_type": "markdown",
   "id": "humanitarian-antique",
   "metadata": {},
   "source": [
    "#### Definição das Classes\n",
    "\n",
    "Obs: Esta parte está sendo construída para criar qualquer grafo e ser utilizado nas buscas por profundidade, largura, gulosa e demais exemplos de grafos sem bibliotecas nativas como Networkx e Igraph\n",
    "\n",
    "Obs: Falta finalizar a lógica de percorrer todos os vértices (profundidade, largura ou gulosa) e desenhar."
   ]
  },
  {
   "cell_type": "code",
   "execution_count": 3,
   "id": "strange-compression",
   "metadata": {},
   "outputs": [],
   "source": [
    "#Classes\n",
    "class Vertice:\n",
    "    #Construtor da Classe\n",
    "    def __init__(self, rotulo):\n",
    "        self.rotulo = rotulo       #Atributo que recebe o parametro rotulo\n",
    "        self.visitado = False      #Atributo inicialmente falso para controlar as buscas no grafo de vertices visitados\n",
    "        self.adjacentes = []\n",
    "    \n",
    "    #Funcao para adicionar o adjacente\n",
    "    def adiciona_adjacente(self, adjacente):\n",
    "        self.adjacentes.append(adjacente)\n",
    "    \n",
    "    #Funcao para mostrar adjacentes\n",
    "    def mostra_adjacentes(self):\n",
    "        for i in self.adjacentes:\n",
    "            print(i.vertice.rotulo, i.custo)\n",
    "            \n",
    "class Adjacente:\n",
    "    #Construtor da Classe\n",
    "    def __init__(self, vertice, custo):\n",
    "        self.vertice = vertice     #Atributo que recebe o parametro vertice\n",
    "        self.custo = custo         #Atributo que recebe o parametro custo\n",
    "        \n",
    "class Grafo:\n",
    "    #Classe para criar o Grafo, como cada Grafo é único é complexo criar uma função para abstrair a inserção dos vertices \n",
    "    A = Vertice('A')\n",
    "    B = Vertice('B')\n",
    "    C = Vertice('C')\n",
    "    D = Vertice('D')\n",
    "    E = Vertice('E')\n",
    "    F = Vertice('F')\n",
    "    G = Vertice('G')\n",
    "    \n",
    "    #Adiciona as Arestas de cada vertice criando o objeto e repassando também o custo.\n",
    "    A.adiciona_adjacente(Adjacente(B,10))\n",
    "    A.adiciona_adjacente(Adjacente(C,10))\n",
    "    A.adiciona_adjacente(Adjacente(D,10))\n",
    "    A.adiciona_adjacente(Adjacente(E,10))\n",
    "    A.adiciona_adjacente(Adjacente(F,10))\n",
    "    A.adiciona_adjacente(Adjacente(G,10))\n",
    "    B.adiciona_adjacente(Adjacente(F,10))\n",
    "    B.adiciona_adjacente(Adjacente(G,10))\n",
    "    C.adiciona_adjacente(Adjacente(F,10))\n",
    "    D.adiciona_adjacente(Adjacente(F,10))\n",
    "    D.adiciona_adjacente(Adjacente(G,10))\n",
    "    "
   ]
  },
  {
   "cell_type": "markdown",
   "id": "polar-glory",
   "metadata": {},
   "source": [
    "#### Criando Objetos"
   ]
  },
  {
   "cell_type": "code",
   "execution_count": 4,
   "id": "freelance-being",
   "metadata": {},
   "outputs": [
    {
     "name": "stdout",
     "output_type": "stream",
     "text": [
      "B 10\n",
      "C 10\n",
      "D 10\n",
      "E 10\n",
      "F 10\n",
      "G 10\n"
     ]
    }
   ],
   "source": [
    "#Criando o objeto grafo\n",
    "grafo = Grafo()\n",
    "\n",
    "grafo.A.mostra_adjacentes()"
   ]
  },
  {
   "cell_type": "markdown",
   "id": "offshore-agent",
   "metadata": {},
   "source": [
    "### Utilizando NetworkX\n",
    "\n",
    "Realmente é uma biblioteca que facilitada bastante a resolução de problemas envolvendo Grafos"
   ]
  },
  {
   "cell_type": "code",
   "execution_count": 2,
   "id": "helpful-craft",
   "metadata": {},
   "outputs": [
    {
     "name": "stdout",
     "output_type": "stream",
     "text": [
      "Nro. Mínimo de Cores: 3\n"
     ]
    },
    {
     "data": {
      "image/png": "[encoded data removed]",
      "text/plain": [
       "<Figure size 432x288 with 1 Axes>"
      ]
     },
     "metadata": {},
     "output_type": "display_data"
    }
   ],
   "source": [
    "# Networkx possui funções greedy_color que implementa o preenchimento de cor dos vértices do \n",
    "# grafo utiliznado uma lógica Gulosa previamente escolhida ou passando uma função criada.\n",
    "\n",
    "# Cria a função para colorir os vertices conforme descrito nos Tutoriais da Networkx\n",
    "# https://networkx.org/documentation/stable/reference/algorithms/generated/networkx.algorithms.coloring.greedy_color.html#networkx.algorithms.coloring.greedy_color\n",
    "def pintavertices(G):\n",
    "    # Definicao de variaveis\n",
    "    colorpalette = {0:'red', 1:\"green\", 2:\"blue\", 3:\"orange\", 4:\"pink\", 5:\"yellow\"}\n",
    "    mapadecor = []\n",
    "\n",
    "    # Chama a função greedy_color passando a Estratégia \"largest_First\" que segundo a documentação implementa\n",
    "    # um preenchimento de cor gulosa, baseado no grau de cada vértice em ordem descrescente de grau\n",
    "    g_color = nx.coloring.greedy_color(G, strategy=\"largest_first\")\n",
    "    \n",
    "    #Exibe o Nro. Cromático para aferição\n",
    "    chromaticnumber = max(g_color.values())+1\n",
    "    print(\"Nro. Mínimo de Cores:\", chromaticnumber)\n",
    "    \n",
    "    # Preenchimento das cortes de cada vértice, precisamos criar um laço para facilitar o preenchimento\n",
    "    for node in G:\n",
    "        mapadecor.append(colorpalette[g_color[node]])\n",
    "    return mapadecor\n",
    "\n",
    "# Criação do Grafo\n",
    "G = nx.Graph()\n",
    "\n",
    "# Criação de todos os vértices.\n",
    "V = [\"A\", \"B\", \"C\", \"D\", \"E\", \"F\", \"G\"]\n",
    "# Criação de toas as arestas, com apoio de outros colegas que já haviam desenhando os vértices.\n",
    "E = [(\"A\", \"B\"), (\"A\", \"C\"), (\"A\", \"D\"), (\"A\", \"E\"), (\"A\", \"F\"), (\"A\", \"G\"),(\"B\", \"F\"), (\"B\", \"G\"), (\"C\", \"F\"), (\"D\", \"F\"), (\"D\", \"G\")]\n",
    "# Adicionando os vérticees ao grafo.\n",
    "G.add_nodes_from(V)\n",
    "# Adicionando as Arestas ao Grafo\n",
    "G.add_edges_from(E)\n",
    "\n",
    "# Mostra o grafo colorido\n",
    "mapadecor=pintavertices(G)\n",
    "nx.draw(G, pos=nx.spring_layout(G), with_labels=True, font_weight='bold', font_color=\"w\", node_color=mapadecor)"
   ]
  }
 ],
 "metadata": {
  "kernelspec": {
   "display_name": "Python 3",
   "language": "python",
   "name": "python3"
  },
  "language_info": {
   "codemirror_mode": {
    "name": "ipython",
    "version": 3
   },
   "file_extension": ".py",
   "mimetype": "text/x-python",
   "name": "python",
   "nbconvert_exporter": "python",
   "pygments_lexer": "ipython3",
   "version": "3.9.1"
  }
 },
 "nbformat": 4,
 "nbformat_minor": 5
}
